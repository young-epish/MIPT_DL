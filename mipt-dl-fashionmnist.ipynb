{
 "cells": [
  {
   "cell_type": "markdown",
   "id": "6f60e8e9",
   "metadata": {
    "id": "eXHcg80Fxqvm",
    "papermill": {
     "duration": 0.016478,
     "end_time": "2023-06-12T15:59:08.860651",
     "exception": false,
     "start_time": "2023-06-12T15:59:08.844173",
     "status": "completed"
    },
    "tags": []
   },
   "source": [
    "# Описание\n",
    "\n",
    "Это учебное соревнование в рамках курса “Глубокое обучение в науках о данных”. В нем вам предстоит построить модель, классифицирующую изображения с одеждой, построенную на датасете Fashion-MNIST. Подробнее о датасете можно узнать во вкладке Data. Задача будет считаться решенной, если в Public Leaderboard вы наберете score, который будет равен или больше 0.80. В качестве метрики используется accuracy. В день вы можете отправлять не более 20 решений (это ограничения платформы). Помните, что решения принимаются только в том формате, который представлен в файле sample_submission.csv."
   ]
  },
  {
   "cell_type": "markdown",
   "id": "862eade3",
   "metadata": {
    "id": "ltQCk5D_wofy",
    "papermill": {
     "duration": 0.013626,
     "end_time": "2023-06-12T15:59:08.894267",
     "exception": false,
     "start_time": "2023-06-12T15:59:08.880641",
     "status": "completed"
    },
    "tags": []
   },
   "source": [
    "# Описание Dataset\n",
    "\n",
    "**Fashion-MNIST** – аналог знаменитого датасета MNIST, который состоит не из рукописных символов, а из предметов одежды. Он был создан, чтобы актуализировать учебные задачи в компьютерном зрении и приблизить их к реальности.\n",
    "\n",
    "Решение более сложной постановки этой задачи может использоваться, например, в маркетплейсах. Покупателю могут рекомендоваться товары по изображениям в соответствии с введённым описанием. Продавцу при загрузке изображений в карточку товара могут автоматически рекомендоваться теги и описание предмета одежды.\n",
    "\n",
    "Каждое изображение представляет собой набор их 784 пикселей (28x28). Каждый пиксель принимает значение от 0 до 255, обозначая его цвет в черно-белой шкале. Обучающая выборка содержит 786 столбцов, где первый (label) – принадлежность изображения к классу, а последний – его уникальный номер (id). Остальные столбцы – пиксели изображения.\n",
    "Проведите первичный анализ данных, чтобы определить наличие NaN значений.\n",
    "Тестовая выборка (на основе которой должно быть получено исследование) содержит все те же столбцы, кроме label.\n",
    "\n",
    "Расшифровка классов (label), к которым принадлежат изображения:\n",
    "\n",
    "* 0 T-shirt/top – футболка\n",
    "* 1 Trouser – брюки\n",
    "* 2 Pullover – свитер\n",
    "* 3 Dress – платье\n",
    "* 4 Coat – пальто\n",
    "* 5 Sandal – сандалия\n",
    "* 6 Shirt – рубашка\n",
    "* 7 Sneaker – кроссовок\n",
    "* 8 Bag – сумка\n",
    "* 9 Ankle boot – сапог\n",
    "\n",
    "Структура данных:\n",
    "\n",
    "* fmnist_train.csv – обучающая выборка\n",
    "* fmnist_test.csv – тестовая выборка (на которой должно быть получено предсказание)\n",
    "* sample_submission.csv – пример решения"
   ]
  },
  {
   "cell_type": "markdown",
   "id": "fbf97296",
   "metadata": {
    "id": "TYhKl6rOvohD",
    "papermill": {
     "duration": 0.013596,
     "end_time": "2023-06-12T15:59:08.922101",
     "exception": false,
     "start_time": "2023-06-12T15:59:08.908505",
     "status": "completed"
    },
    "tags": []
   },
   "source": [
    "# Иморты"
   ]
  },
  {
   "cell_type": "code",
   "execution_count": 1,
   "id": "efc9880c",
   "metadata": {
    "execution": {
     "iopub.execute_input": "2023-06-12T15:59:08.951972Z",
     "iopub.status.busy": "2023-06-12T15:59:08.951552Z",
     "iopub.status.idle": "2023-06-12T15:59:18.728132Z",
     "shell.execute_reply": "2023-06-12T15:59:18.726153Z"
    },
    "id": "QefDjVtzsYDc",
    "outputId": "1a5d7d8f-5a13-4f22-e86e-6522eca0344e",
    "papermill": {
     "duration": 9.794347,
     "end_time": "2023-06-12T15:59:18.730362",
     "exception": false,
     "start_time": "2023-06-12T15:59:08.936015",
     "status": "completed"
    },
    "tags": []
   },
   "outputs": [
    {
     "name": "stderr",
     "output_type": "stream",
     "text": [
      "/opt/conda/lib/python3.10/site-packages/tensorflow_io/python/ops/__init__.py:98: UserWarning: unable to load libtensorflow_io_plugins.so: unable to open file: libtensorflow_io_plugins.so, from paths: ['/opt/conda/lib/python3.10/site-packages/tensorflow_io/python/ops/libtensorflow_io_plugins.so']\n",
      "caused by: ['/opt/conda/lib/python3.10/site-packages/tensorflow_io/python/ops/libtensorflow_io_plugins.so: undefined symbol: _ZN3tsl6StatusC1EN10tensorflow5error4CodeESt17basic_string_viewIcSt11char_traitsIcEENS_14SourceLocationE']\n",
      "  warnings.warn(f\"unable to load libtensorflow_io_plugins.so: {e}\")\n",
      "/opt/conda/lib/python3.10/site-packages/tensorflow_io/python/ops/__init__.py:104: UserWarning: file system plugins are not loaded: unable to open file: libtensorflow_io.so, from paths: ['/opt/conda/lib/python3.10/site-packages/tensorflow_io/python/ops/libtensorflow_io.so']\n",
      "caused by: ['/opt/conda/lib/python3.10/site-packages/tensorflow_io/python/ops/libtensorflow_io.so: undefined symbol: _ZTVN10tensorflow13GcsFileSystemE']\n",
      "  warnings.warn(f\"file system plugins are not loaded: {e}\")\n"
     ]
    },
    {
     "name": "stdout",
     "output_type": "stream",
     "text": [
      "Python       : 3.10.10 | packaged by conda-forge | (main, Mar 24 2023, 20:08:06) [GCC 11.3.0]\n",
      "Numpy        : 1.23.5\n",
      "Tensorflow   : 2.12.0\n",
      "Keras        : 2.12.0\n"
     ]
    }
   ],
   "source": [
    "import numpy as np\n",
    "import pandas as pd\n",
    "import matplotlib.pyplot as plt\n",
    "import seaborn as sns\n",
    "from sklearn.metrics import accuracy_score\n",
    "from sklearn.model_selection import train_test_split\n",
    "\n",
    "import tensorflow as tf\n",
    "import tensorflow.keras as keras\n",
    "import tensorflow.keras.models as M\n",
    "import tensorflow.keras.layers as L\n",
    "import tensorflow.keras.backend as K\n",
    "import tensorflow.keras.callbacks as C\n",
    "from tensorflow.keras.preprocessing import image\n",
    "from tensorflow.keras.preprocessing.image import ImageDataGenerator\n",
    "from tensorflow.keras.callbacks import LearningRateScheduler, ModelCheckpoint, EarlyStopping\n",
    "from tensorflow.keras.callbacks import Callback\n",
    "from tensorflow.keras import optimizers\n",
    "\n",
    "import sys\n",
    "\n",
    "print('Python       :', sys.version.split('\\n')[0])\n",
    "print('Numpy        :', np.__version__)\n",
    "print('Tensorflow   :', tf.__version__)\n",
    "print('Keras        :', keras.__version__)"
   ]
  },
  {
   "cell_type": "code",
   "execution_count": 2,
   "id": "a5c2ed98",
   "metadata": {
    "execution": {
     "iopub.execute_input": "2023-06-12T15:59:18.753522Z",
     "iopub.status.busy": "2023-06-12T15:59:18.752214Z",
     "iopub.status.idle": "2023-06-12T15:59:22.527125Z",
     "shell.execute_reply": "2023-06-12T15:59:22.526165Z"
    },
    "id": "_nkF6mz9vQTG",
    "outputId": "ac71a52b-564c-45ee-ce5c-039860b91343",
    "papermill": {
     "duration": 3.788158,
     "end_time": "2023-06-12T15:59:22.529131",
     "exception": false,
     "start_time": "2023-06-12T15:59:18.740973",
     "status": "completed"
    },
    "tags": []
   },
   "outputs": [
    {
     "data": {
      "text/plain": [
       "'/device:GPU:0'"
      ]
     },
     "execution_count": 2,
     "metadata": {},
     "output_type": "execute_result"
    }
   ],
   "source": [
    "# Проверяем что у нас работает GPU\n",
    "tf.test.gpu_device_name()"
   ]
  },
  {
   "cell_type": "code",
   "execution_count": 3,
   "id": "ef32129a",
   "metadata": {
    "execution": {
     "iopub.execute_input": "2023-06-12T15:59:22.551777Z",
     "iopub.status.busy": "2023-06-12T15:59:22.551489Z",
     "iopub.status.idle": "2023-06-12T15:59:23.624965Z",
     "shell.execute_reply": "2023-06-12T15:59:23.623859Z"
    },
    "id": "oXmOZGmuv-wi",
    "outputId": "6b13ddb0-1fae-4dd1-eeb1-1cdabba6c57d",
    "papermill": {
     "duration": 1.087339,
     "end_time": "2023-06-12T15:59:23.627178",
     "exception": false,
     "start_time": "2023-06-12T15:59:22.539839",
     "status": "completed"
    },
    "tags": []
   },
   "outputs": [
    {
     "name": "stdout",
     "output_type": "stream",
     "text": [
      "Mon Jun 12 15:59:23 2023       \r\n",
      "+-----------------------------------------------------------------------------+\r\n",
      "| NVIDIA-SMI 470.161.03   Driver Version: 470.161.03   CUDA Version: 11.4     |\r\n",
      "|-------------------------------+----------------------+----------------------+\r\n",
      "| GPU  Name        Persistence-M| Bus-Id        Disp.A | Volatile Uncorr. ECC |\r\n",
      "| Fan  Temp  Perf  Pwr:Usage/Cap|         Memory-Usage | GPU-Util  Compute M. |\r\n",
      "|                               |                      |               MIG M. |\r\n",
      "|===============================+======================+======================|\r\n",
      "|   0  Tesla T4            Off  | 00000000:00:04.0 Off |                    0 |\r\n",
      "| N/A   43C    P0    27W /  70W |    372MiB / 15109MiB |      0%      Default |\r\n",
      "|                               |                      |                  N/A |\r\n",
      "+-------------------------------+----------------------+----------------------+\r\n",
      "|   1  Tesla T4            Off  | 00000000:00:05.0 Off |                    0 |\r\n",
      "| N/A   38C    P0    27W /  70W |    372MiB / 15109MiB |      0%      Default |\r\n",
      "|                               |                      |                  N/A |\r\n",
      "+-------------------------------+----------------------+----------------------+\r\n",
      "                                                                               \r\n",
      "+-----------------------------------------------------------------------------+\r\n",
      "| Processes:                                                                  |\r\n",
      "|  GPU   GI   CI        PID   Type   Process name                  GPU Memory |\r\n",
      "|        ID   ID                                                   Usage      |\r\n",
      "|=============================================================================|\r\n",
      "+-----------------------------------------------------------------------------+\r\n"
     ]
    }
   ],
   "source": [
    "# GPU & drivers\n",
    "!nvidia-smi"
   ]
  },
  {
   "cell_type": "markdown",
   "id": "9320c75b",
   "metadata": {
    "id": "nMA3Yc1WAslM",
    "papermill": {
     "duration": 0.010209,
     "end_time": "2023-06-12T15:59:23.648347",
     "exception": false,
     "start_time": "2023-06-12T15:59:23.638138",
     "status": "completed"
    },
    "tags": []
   },
   "source": [
    "# Данные"
   ]
  },
  {
   "cell_type": "code",
   "execution_count": 4,
   "id": "ec82979a",
   "metadata": {
    "execution": {
     "iopub.execute_input": "2023-06-12T15:59:23.671268Z",
     "iopub.status.busy": "2023-06-12T15:59:23.670953Z",
     "iopub.status.idle": "2023-06-12T15:59:27.020136Z",
     "shell.execute_reply": "2023-06-12T15:59:27.019180Z"
    },
    "id": "EEcnXNr4wIMS",
    "papermill": {
     "duration": 3.363311,
     "end_time": "2023-06-12T15:59:27.022760",
     "exception": false,
     "start_time": "2023-06-12T15:59:23.659449",
     "status": "completed"
    },
    "tags": []
   },
   "outputs": [],
   "source": [
    "# Чтение данных\n",
    "train = pd.read_csv('/kaggle/input/mds-mipt-dl-test-final/fmnist_train.csv')\n",
    "test = pd.read_csv('/kaggle/input/mds-mipt-dl-test-final/fmnist_test.csv')\n",
    "submission = pd.read_csv('/kaggle/input/mds-mipt-dl-test-final/sample_submission.csv')\n",
    "\n",
    "labels = ['T-shirt/top', 'Trouser', 'Pullover', 'Dress', 'Coat', 'Sandal', 'Shirt', 'Sneaker', 'Bag', 'Ankle boot']"
   ]
  },
  {
   "cell_type": "code",
   "execution_count": 5,
   "id": "55747c22",
   "metadata": {
    "execution": {
     "iopub.execute_input": "2023-06-12T15:59:27.047065Z",
     "iopub.status.busy": "2023-06-12T15:59:27.045446Z",
     "iopub.status.idle": "2023-06-12T15:59:27.077994Z",
     "shell.execute_reply": "2023-06-12T15:59:27.076986Z"
    },
    "id": "ozwShUJc_p8L",
    "outputId": "10633886-3e5d-4501-d43c-3ca2c9ce5f7e",
    "papermill": {
     "duration": 0.046346,
     "end_time": "2023-06-12T15:59:27.080004",
     "exception": false,
     "start_time": "2023-06-12T15:59:27.033658",
     "status": "completed"
    },
    "tags": []
   },
   "outputs": [
    {
     "data": {
      "text/html": [
       "<div>\n",
       "<style scoped>\n",
       "    .dataframe tbody tr th:only-of-type {\n",
       "        vertical-align: middle;\n",
       "    }\n",
       "\n",
       "    .dataframe tbody tr th {\n",
       "        vertical-align: top;\n",
       "    }\n",
       "\n",
       "    .dataframe thead th {\n",
       "        text-align: right;\n",
       "    }\n",
       "</style>\n",
       "<table border=\"1\" class=\"dataframe\">\n",
       "  <thead>\n",
       "    <tr style=\"text-align: right;\">\n",
       "      <th></th>\n",
       "      <th>label</th>\n",
       "      <th>pixel1</th>\n",
       "      <th>pixel2</th>\n",
       "      <th>pixel3</th>\n",
       "      <th>pixel4</th>\n",
       "      <th>pixel5</th>\n",
       "      <th>pixel6</th>\n",
       "      <th>pixel7</th>\n",
       "      <th>pixel8</th>\n",
       "      <th>pixel9</th>\n",
       "      <th>...</th>\n",
       "      <th>pixel776</th>\n",
       "      <th>pixel777</th>\n",
       "      <th>pixel778</th>\n",
       "      <th>pixel779</th>\n",
       "      <th>pixel780</th>\n",
       "      <th>pixel781</th>\n",
       "      <th>pixel782</th>\n",
       "      <th>pixel783</th>\n",
       "      <th>pixel784</th>\n",
       "      <th>Id</th>\n",
       "    </tr>\n",
       "  </thead>\n",
       "  <tbody>\n",
       "    <tr>\n",
       "      <th>0</th>\n",
       "      <td>2</td>\n",
       "      <td>0</td>\n",
       "      <td>0</td>\n",
       "      <td>0</td>\n",
       "      <td>0</td>\n",
       "      <td>0</td>\n",
       "      <td>0</td>\n",
       "      <td>0</td>\n",
       "      <td>0</td>\n",
       "      <td>0</td>\n",
       "      <td>...</td>\n",
       "      <td>0.0</td>\n",
       "      <td>0.0</td>\n",
       "      <td>0.0</td>\n",
       "      <td>0.0</td>\n",
       "      <td>0.0</td>\n",
       "      <td>0.0</td>\n",
       "      <td>0.0</td>\n",
       "      <td>0.0</td>\n",
       "      <td>0.0</td>\n",
       "      <td>0</td>\n",
       "    </tr>\n",
       "    <tr>\n",
       "      <th>1</th>\n",
       "      <td>9</td>\n",
       "      <td>0</td>\n",
       "      <td>0</td>\n",
       "      <td>0</td>\n",
       "      <td>0</td>\n",
       "      <td>0</td>\n",
       "      <td>0</td>\n",
       "      <td>0</td>\n",
       "      <td>0</td>\n",
       "      <td>0</td>\n",
       "      <td>...</td>\n",
       "      <td>0.0</td>\n",
       "      <td>0.0</td>\n",
       "      <td>0.0</td>\n",
       "      <td>0.0</td>\n",
       "      <td>0.0</td>\n",
       "      <td>0.0</td>\n",
       "      <td>0.0</td>\n",
       "      <td>0.0</td>\n",
       "      <td>0.0</td>\n",
       "      <td>1</td>\n",
       "    </tr>\n",
       "    <tr>\n",
       "      <th>2</th>\n",
       "      <td>6</td>\n",
       "      <td>0</td>\n",
       "      <td>0</td>\n",
       "      <td>0</td>\n",
       "      <td>0</td>\n",
       "      <td>0</td>\n",
       "      <td>0</td>\n",
       "      <td>0</td>\n",
       "      <td>5</td>\n",
       "      <td>0</td>\n",
       "      <td>...</td>\n",
       "      <td>0.0</td>\n",
       "      <td>0.0</td>\n",
       "      <td>30.0</td>\n",
       "      <td>43.0</td>\n",
       "      <td>0.0</td>\n",
       "      <td>0.0</td>\n",
       "      <td>0.0</td>\n",
       "      <td>0.0</td>\n",
       "      <td>0.0</td>\n",
       "      <td>2</td>\n",
       "    </tr>\n",
       "  </tbody>\n",
       "</table>\n",
       "<p>3 rows × 786 columns</p>\n",
       "</div>"
      ],
      "text/plain": [
       "   label  pixel1  pixel2  pixel3  pixel4  pixel5  pixel6  pixel7  pixel8  \\\n",
       "0      2       0       0       0       0       0       0       0       0   \n",
       "1      9       0       0       0       0       0       0       0       0   \n",
       "2      6       0       0       0       0       0       0       0       5   \n",
       "\n",
       "   pixel9  ...  pixel776  pixel777  pixel778  pixel779  pixel780  pixel781  \\\n",
       "0       0  ...       0.0       0.0       0.0       0.0       0.0       0.0   \n",
       "1       0  ...       0.0       0.0       0.0       0.0       0.0       0.0   \n",
       "2       0  ...       0.0       0.0      30.0      43.0       0.0       0.0   \n",
       "\n",
       "   pixel782  pixel783  pixel784  Id  \n",
       "0       0.0       0.0       0.0   0  \n",
       "1       0.0       0.0       0.0   1  \n",
       "2       0.0       0.0       0.0   2  \n",
       "\n",
       "[3 rows x 786 columns]"
      ]
     },
     "execution_count": 5,
     "metadata": {},
     "output_type": "execute_result"
    }
   ],
   "source": [
    "train.head(3)"
   ]
  },
  {
   "cell_type": "code",
   "execution_count": 6,
   "id": "95bdf999",
   "metadata": {
    "execution": {
     "iopub.execute_input": "2023-06-12T15:59:27.102542Z",
     "iopub.status.busy": "2023-06-12T15:59:27.102252Z",
     "iopub.status.idle": "2023-06-12T15:59:27.118456Z",
     "shell.execute_reply": "2023-06-12T15:59:27.117370Z"
    },
    "id": "7Gz0GlVG_sTD",
    "outputId": "6f2f62ad-7e29-46f6-a34a-affd22a95788",
    "papermill": {
     "duration": 0.030385,
     "end_time": "2023-06-12T15:59:27.121025",
     "exception": false,
     "start_time": "2023-06-12T15:59:27.090640",
     "status": "completed"
    },
    "tags": []
   },
   "outputs": [
    {
     "data": {
      "text/html": [
       "<div>\n",
       "<style scoped>\n",
       "    .dataframe tbody tr th:only-of-type {\n",
       "        vertical-align: middle;\n",
       "    }\n",
       "\n",
       "    .dataframe tbody tr th {\n",
       "        vertical-align: top;\n",
       "    }\n",
       "\n",
       "    .dataframe thead th {\n",
       "        text-align: right;\n",
       "    }\n",
       "</style>\n",
       "<table border=\"1\" class=\"dataframe\">\n",
       "  <thead>\n",
       "    <tr style=\"text-align: right;\">\n",
       "      <th></th>\n",
       "      <th>pixel1</th>\n",
       "      <th>pixel2</th>\n",
       "      <th>pixel3</th>\n",
       "      <th>pixel4</th>\n",
       "      <th>pixel5</th>\n",
       "      <th>pixel6</th>\n",
       "      <th>pixel7</th>\n",
       "      <th>pixel8</th>\n",
       "      <th>pixel9</th>\n",
       "      <th>pixel10</th>\n",
       "      <th>...</th>\n",
       "      <th>pixel776</th>\n",
       "      <th>pixel777</th>\n",
       "      <th>pixel778</th>\n",
       "      <th>pixel779</th>\n",
       "      <th>pixel780</th>\n",
       "      <th>pixel781</th>\n",
       "      <th>pixel782</th>\n",
       "      <th>pixel783</th>\n",
       "      <th>pixel784</th>\n",
       "      <th>Id</th>\n",
       "    </tr>\n",
       "  </thead>\n",
       "  <tbody>\n",
       "    <tr>\n",
       "      <th>0</th>\n",
       "      <td>0</td>\n",
       "      <td>0</td>\n",
       "      <td>0</td>\n",
       "      <td>0</td>\n",
       "      <td>0</td>\n",
       "      <td>0</td>\n",
       "      <td>0</td>\n",
       "      <td>9</td>\n",
       "      <td>8</td>\n",
       "      <td>0</td>\n",
       "      <td>...</td>\n",
       "      <td>87</td>\n",
       "      <td>56</td>\n",
       "      <td>0</td>\n",
       "      <td>0</td>\n",
       "      <td>0</td>\n",
       "      <td>0</td>\n",
       "      <td>0</td>\n",
       "      <td>0</td>\n",
       "      <td>0</td>\n",
       "      <td>0</td>\n",
       "    </tr>\n",
       "    <tr>\n",
       "      <th>1</th>\n",
       "      <td>0</td>\n",
       "      <td>0</td>\n",
       "      <td>0</td>\n",
       "      <td>0</td>\n",
       "      <td>0</td>\n",
       "      <td>0</td>\n",
       "      <td>0</td>\n",
       "      <td>0</td>\n",
       "      <td>0</td>\n",
       "      <td>0</td>\n",
       "      <td>...</td>\n",
       "      <td>0</td>\n",
       "      <td>0</td>\n",
       "      <td>0</td>\n",
       "      <td>0</td>\n",
       "      <td>0</td>\n",
       "      <td>0</td>\n",
       "      <td>0</td>\n",
       "      <td>0</td>\n",
       "      <td>0</td>\n",
       "      <td>1</td>\n",
       "    </tr>\n",
       "    <tr>\n",
       "      <th>2</th>\n",
       "      <td>0</td>\n",
       "      <td>0</td>\n",
       "      <td>0</td>\n",
       "      <td>0</td>\n",
       "      <td>0</td>\n",
       "      <td>0</td>\n",
       "      <td>14</td>\n",
       "      <td>53</td>\n",
       "      <td>99</td>\n",
       "      <td>17</td>\n",
       "      <td>...</td>\n",
       "      <td>0</td>\n",
       "      <td>0</td>\n",
       "      <td>0</td>\n",
       "      <td>63</td>\n",
       "      <td>53</td>\n",
       "      <td>31</td>\n",
       "      <td>0</td>\n",
       "      <td>0</td>\n",
       "      <td>0</td>\n",
       "      <td>2</td>\n",
       "    </tr>\n",
       "    <tr>\n",
       "      <th>3</th>\n",
       "      <td>0</td>\n",
       "      <td>0</td>\n",
       "      <td>0</td>\n",
       "      <td>0</td>\n",
       "      <td>0</td>\n",
       "      <td>0</td>\n",
       "      <td>0</td>\n",
       "      <td>0</td>\n",
       "      <td>0</td>\n",
       "      <td>161</td>\n",
       "      <td>...</td>\n",
       "      <td>126</td>\n",
       "      <td>140</td>\n",
       "      <td>0</td>\n",
       "      <td>133</td>\n",
       "      <td>224</td>\n",
       "      <td>222</td>\n",
       "      <td>56</td>\n",
       "      <td>0</td>\n",
       "      <td>0</td>\n",
       "      <td>3</td>\n",
       "    </tr>\n",
       "    <tr>\n",
       "      <th>4</th>\n",
       "      <td>0</td>\n",
       "      <td>0</td>\n",
       "      <td>0</td>\n",
       "      <td>0</td>\n",
       "      <td>0</td>\n",
       "      <td>0</td>\n",
       "      <td>0</td>\n",
       "      <td>0</td>\n",
       "      <td>0</td>\n",
       "      <td>0</td>\n",
       "      <td>...</td>\n",
       "      <td>0</td>\n",
       "      <td>0</td>\n",
       "      <td>0</td>\n",
       "      <td>0</td>\n",
       "      <td>0</td>\n",
       "      <td>0</td>\n",
       "      <td>0</td>\n",
       "      <td>0</td>\n",
       "      <td>0</td>\n",
       "      <td>4</td>\n",
       "    </tr>\n",
       "  </tbody>\n",
       "</table>\n",
       "<p>5 rows × 785 columns</p>\n",
       "</div>"
      ],
      "text/plain": [
       "   pixel1  pixel2  pixel3  pixel4  pixel5  pixel6  pixel7  pixel8  pixel9  \\\n",
       "0       0       0       0       0       0       0       0       9       8   \n",
       "1       0       0       0       0       0       0       0       0       0   \n",
       "2       0       0       0       0       0       0      14      53      99   \n",
       "3       0       0       0       0       0       0       0       0       0   \n",
       "4       0       0       0       0       0       0       0       0       0   \n",
       "\n",
       "   pixel10  ...  pixel776  pixel777  pixel778  pixel779  pixel780  pixel781  \\\n",
       "0        0  ...        87        56         0         0         0         0   \n",
       "1        0  ...         0         0         0         0         0         0   \n",
       "2       17  ...         0         0         0        63        53        31   \n",
       "3      161  ...       126       140         0       133       224       222   \n",
       "4        0  ...         0         0         0         0         0         0   \n",
       "\n",
       "   pixel782  pixel783  pixel784  Id  \n",
       "0         0         0         0   0  \n",
       "1         0         0         0   1  \n",
       "2         0         0         0   2  \n",
       "3        56         0         0   3  \n",
       "4         0         0         0   4  \n",
       "\n",
       "[5 rows x 785 columns]"
      ]
     },
     "execution_count": 6,
     "metadata": {},
     "output_type": "execute_result"
    }
   ],
   "source": [
    "test.head()"
   ]
  },
  {
   "cell_type": "code",
   "execution_count": 7,
   "id": "47ecbb74",
   "metadata": {
    "execution": {
     "iopub.execute_input": "2023-06-12T15:59:27.144939Z",
     "iopub.status.busy": "2023-06-12T15:59:27.144689Z",
     "iopub.status.idle": "2023-06-12T15:59:27.152564Z",
     "shell.execute_reply": "2023-06-12T15:59:27.151673Z"
    },
    "id": "Yrq45b2o_0e4",
    "outputId": "86c234bb-c649-4729-d5c1-e9ebe117dcc2",
    "papermill": {
     "duration": 0.022194,
     "end_time": "2023-06-12T15:59:27.154684",
     "exception": false,
     "start_time": "2023-06-12T15:59:27.132490",
     "status": "completed"
    },
    "tags": []
   },
   "outputs": [
    {
     "data": {
      "text/html": [
       "<div>\n",
       "<style scoped>\n",
       "    .dataframe tbody tr th:only-of-type {\n",
       "        vertical-align: middle;\n",
       "    }\n",
       "\n",
       "    .dataframe tbody tr th {\n",
       "        vertical-align: top;\n",
       "    }\n",
       "\n",
       "    .dataframe thead th {\n",
       "        text-align: right;\n",
       "    }\n",
       "</style>\n",
       "<table border=\"1\" class=\"dataframe\">\n",
       "  <thead>\n",
       "    <tr style=\"text-align: right;\">\n",
       "      <th></th>\n",
       "      <th>Id</th>\n",
       "      <th>label</th>\n",
       "    </tr>\n",
       "  </thead>\n",
       "  <tbody>\n",
       "    <tr>\n",
       "      <th>0</th>\n",
       "      <td>0</td>\n",
       "      <td>0</td>\n",
       "    </tr>\n",
       "    <tr>\n",
       "      <th>1</th>\n",
       "      <td>1</td>\n",
       "      <td>0</td>\n",
       "    </tr>\n",
       "    <tr>\n",
       "      <th>2</th>\n",
       "      <td>2</td>\n",
       "      <td>0</td>\n",
       "    </tr>\n",
       "  </tbody>\n",
       "</table>\n",
       "</div>"
      ],
      "text/plain": [
       "   Id  label\n",
       "0   0      0\n",
       "1   1      0\n",
       "2   2      0"
      ]
     },
     "execution_count": 7,
     "metadata": {},
     "output_type": "execute_result"
    }
   ],
   "source": [
    "submission.head(3)"
   ]
  },
  {
   "cell_type": "code",
   "execution_count": 8,
   "id": "cecb0e80",
   "metadata": {
    "execution": {
     "iopub.execute_input": "2023-06-12T15:59:27.179529Z",
     "iopub.status.busy": "2023-06-12T15:59:27.179244Z",
     "iopub.status.idle": "2023-06-12T15:59:27.185175Z",
     "shell.execute_reply": "2023-06-12T15:59:27.183966Z"
    },
    "id": "Yf0RWkffBRVM",
    "outputId": "313f187d-25ee-4220-c042-3c0edf7378dc",
    "papermill": {
     "duration": 0.020398,
     "end_time": "2023-06-12T15:59:27.187448",
     "exception": false,
     "start_time": "2023-06-12T15:59:27.167050",
     "status": "completed"
    },
    "tags": []
   },
   "outputs": [
    {
     "name": "stdout",
     "output_type": "stream",
     "text": [
      "Train: (17040, 786)\n",
      "Test: (10000, 785)\n",
      "Submission: (10000, 2)\n"
     ]
    }
   ],
   "source": [
    "# Размерность\n",
    "print('Train:', train.shape)\n",
    "print('Test:', test.shape)\n",
    "print('Submission:', submission.shape)"
   ]
  },
  {
   "cell_type": "code",
   "execution_count": 9,
   "id": "448ce434",
   "metadata": {
    "execution": {
     "iopub.execute_input": "2023-06-12T15:59:27.211285Z",
     "iopub.status.busy": "2023-06-12T15:59:27.210998Z",
     "iopub.status.idle": "2023-06-12T15:59:27.222117Z",
     "shell.execute_reply": "2023-06-12T15:59:27.221156Z"
    },
    "id": "W7vii6BKBTRD",
    "outputId": "85c00823-1610-4c0b-e56e-045df0f172fc",
    "papermill": {
     "duration": 0.0256,
     "end_time": "2023-06-12T15:59:27.224728",
     "exception": false,
     "start_time": "2023-06-12T15:59:27.199128",
     "status": "completed"
    },
    "tags": []
   },
   "outputs": [
    {
     "data": {
      "text/plain": [
       "10"
      ]
     },
     "execution_count": 9,
     "metadata": {},
     "output_type": "execute_result"
    }
   ],
   "source": [
    "# Количество категорий\n",
    "train['label'].nunique()"
   ]
  },
  {
   "cell_type": "code",
   "execution_count": 10,
   "id": "a3f3c894",
   "metadata": {
    "execution": {
     "iopub.execute_input": "2023-06-12T15:59:27.248809Z",
     "iopub.status.busy": "2023-06-12T15:59:27.248554Z",
     "iopub.status.idle": "2023-06-12T15:59:27.280615Z",
     "shell.execute_reply": "2023-06-12T15:59:27.279552Z"
    },
    "id": "-Rfl5O7mAvfe",
    "outputId": "bc3b6721-6207-465a-db20-22c63feb9f8d",
    "papermill": {
     "duration": 0.046663,
     "end_time": "2023-06-12T15:59:27.283069",
     "exception": false,
     "start_time": "2023-06-12T15:59:27.236406",
     "status": "completed"
    },
    "tags": []
   },
   "outputs": [
    {
     "name": "stdout",
     "output_type": "stream",
     "text": [
      "Train NaN Count: 424 Test NaN Count: 0\n"
     ]
    }
   ],
   "source": [
    "# Количество пустых значений\n",
    "train_nan = train.isna().values.sum()\n",
    "test_nan = test.isna().values.sum()\n",
    "print(f'Train NaN Count: {train_nan} Test NaN Count: {test_nan}')"
   ]
  },
  {
   "cell_type": "code",
   "execution_count": 11,
   "id": "03502438",
   "metadata": {
    "execution": {
     "iopub.execute_input": "2023-06-12T15:59:27.308177Z",
     "iopub.status.busy": "2023-06-12T15:59:27.307888Z",
     "iopub.status.idle": "2023-06-12T15:59:27.311921Z",
     "shell.execute_reply": "2023-06-12T15:59:27.310946Z"
    },
    "id": "kt0bCH7zIPss",
    "papermill": {
     "duration": 0.019653,
     "end_time": "2023-06-12T15:59:27.314312",
     "exception": false,
     "start_time": "2023-06-12T15:59:27.294659",
     "status": "completed"
    },
    "tags": []
   },
   "outputs": [],
   "source": [
    "# Большой вывод, поэтому стоит комментарий\n",
    "#train.info(verbose=True, show_counts=True)"
   ]
  },
  {
   "cell_type": "markdown",
   "id": "c093f6bc",
   "metadata": {
    "id": "HZxvnAgb-Fql",
    "papermill": {
     "duration": 0.011628,
     "end_time": "2023-06-12T15:59:27.337665",
     "exception": false,
     "start_time": "2023-06-12T15:59:27.326037",
     "status": "completed"
    },
    "tags": []
   },
   "source": [
    "# Переменные"
   ]
  },
  {
   "cell_type": "code",
   "execution_count": 12,
   "id": "505c9454",
   "metadata": {
    "execution": {
     "iopub.execute_input": "2023-06-12T15:59:27.361588Z",
     "iopub.status.busy": "2023-06-12T15:59:27.361324Z",
     "iopub.status.idle": "2023-06-12T15:59:27.402536Z",
     "shell.execute_reply": "2023-06-12T15:59:27.401516Z"
    },
    "id": "QMZ2OFl6YWqK",
    "papermill": {
     "duration": 0.05602,
     "end_time": "2023-06-12T15:59:27.405038",
     "exception": false,
     "start_time": "2023-06-12T15:59:27.349018",
     "status": "completed"
    },
    "tags": []
   },
   "outputs": [],
   "source": [
    "# Настройка переменных\n",
    "RANDOM_SEED = 13\n",
    "VAL_SPLIT = 0.2\n",
    "\n",
    "EPOCHS = 60\n",
    "BATCH_SIZE = 128\n",
    "LR = 1e-3\n",
    "EARLY_STOPPING = 10\n",
    "\n",
    "FEATURES = list(train.loc[:, 'pixel1':'pixel784'])\n",
    "TARGET = 'label'\n",
    "\n",
    "CLASS_NUM = train[TARGET].nunique()\n",
    "IMG_SIZE = 28\n",
    "IMG_CHANNELS = 1\n",
    "INPUT_SHAPE = (IMG_SIZE, IMG_SIZE, IMG_CHANNELS)"
   ]
  },
  {
   "cell_type": "markdown",
   "id": "76f05032",
   "metadata": {
    "id": "pWIZttr6-Kxm",
    "papermill": {
     "duration": 0.011934,
     "end_time": "2023-06-12T15:59:27.430702",
     "exception": false,
     "start_time": "2023-06-12T15:59:27.418768",
     "status": "completed"
    },
    "tags": []
   },
   "source": [
    "# Предобработка"
   ]
  },
  {
   "cell_type": "code",
   "execution_count": 13,
   "id": "e85ab23f",
   "metadata": {
    "execution": {
     "iopub.execute_input": "2023-06-12T15:59:27.456723Z",
     "iopub.status.busy": "2023-06-12T15:59:27.456390Z",
     "iopub.status.idle": "2023-06-12T15:59:27.641682Z",
     "shell.execute_reply": "2023-06-12T15:59:27.640749Z"
    },
    "id": "r3CMEyKFMp4t",
    "outputId": "175acbf7-0f49-4b5a-d238-0f11c73c98dc",
    "papermill": {
     "duration": 0.200692,
     "end_time": "2023-06-12T15:59:27.643811",
     "exception": false,
     "start_time": "2023-06-12T15:59:27.443119",
     "status": "completed"
    },
    "tags": []
   },
   "outputs": [
    {
     "data": {
      "image/png": "[encoded data removed]",
      "text/plain": [
       "<Figure size 300x300 with 1 Axes>"
      ]
     },
     "metadata": {},
     "output_type": "display_data"
    }
   ],
   "source": [
    "# Посмотрим на картинку без части данных\n",
    "fig = plt.figure(figsize=(3, 3))\n",
    "ax = fig.add_subplot()\n",
    "ax.grid('off')\n",
    "ax.axis('off')\n",
    "ax.imshow(train.loc[train['pixel490'].isna(), FEATURES\n",
    "                    ].values.reshape(INPUT_SHAPE), cmap='gray')\n",
    "ax.set_title('Class: ' + \n",
    "             labels[train.loc[train['pixel490'].isna(), TARGET].values[0]])\n",
    "plt.show()"
   ]
  },
  {
   "cell_type": "code",
   "execution_count": 14,
   "id": "8cbf1e20",
   "metadata": {
    "execution": {
     "iopub.execute_input": "2023-06-12T15:59:27.669379Z",
     "iopub.status.busy": "2023-06-12T15:59:27.668623Z",
     "iopub.status.idle": "2023-06-12T15:59:27.719063Z",
     "shell.execute_reply": "2023-06-12T15:59:27.718078Z"
    },
    "id": "rp_e_e4tJ2Of",
    "papermill": {
     "duration": 0.066173,
     "end_time": "2023-06-12T15:59:27.721838",
     "exception": false,
     "start_time": "2023-06-12T15:59:27.655665",
     "status": "completed"
    },
    "tags": []
   },
   "outputs": [],
   "source": [
    "# Удаляю запись с пропусками, т.к. непонятно, что изображено\n",
    "train = train.dropna()"
   ]
  },
  {
   "cell_type": "code",
   "execution_count": 15,
   "id": "590544ef",
   "metadata": {
    "execution": {
     "iopub.execute_input": "2023-06-12T15:59:27.747864Z",
     "iopub.status.busy": "2023-06-12T15:59:27.747564Z",
     "iopub.status.idle": "2023-06-12T15:59:28.898108Z",
     "shell.execute_reply": "2023-06-12T15:59:28.897197Z"
    },
    "id": "Ik8767JaC8qB",
    "outputId": "8b495a10-6c55-45ac-aa74-0397e804e7ae",
    "papermill": {
     "duration": 1.165891,
     "end_time": "2023-06-12T15:59:28.900453",
     "exception": false,
     "start_time": "2023-06-12T15:59:27.734562",
     "status": "completed"
    },
    "tags": []
   },
   "outputs": [
    {
     "data": {
      "image/png": "[encoded data removed]",
      "text/plain": [
       "<Figure size 1500x400 with 16 Axes>"
      ]
     },
     "metadata": {},
     "output_type": "display_data"
    }
   ],
   "source": [
    "# Посмотрим на примеры картинок\n",
    "cols = 8\n",
    "rows = 2\n",
    "fig = plt.figure(figsize=(2 * cols - 1, 2.5 * rows - 1))\n",
    "for i in range(cols):\n",
    "    for j in range(rows):\n",
    "        random_index = np.random.randint(0, len(train))\n",
    "        ax = fig.add_subplot(rows, cols, i * rows + j + 1)\n",
    "        ax.grid('off')\n",
    "        ax.axis('off')\n",
    "        ax.imshow(train.loc[random_index, FEATURES\n",
    "                            ].values.reshape(INPUT_SHAPE), cmap='gray')\n",
    "        ax.set_title('Class: ' + labels[train.loc[random_index, TARGET]])\n",
    "plt.show()"
   ]
  },
  {
   "cell_type": "code",
   "execution_count": 16,
   "id": "53007c45",
   "metadata": {
    "execution": {
     "iopub.execute_input": "2023-06-12T15:59:28.929842Z",
     "iopub.status.busy": "2023-06-12T15:59:28.928398Z",
     "iopub.status.idle": "2023-06-12T15:59:28.936847Z",
     "shell.execute_reply": "2023-06-12T15:59:28.935971Z"
    },
    "id": "LkOr0qAkT63n",
    "outputId": "2813dbc3-df1a-4312-d9a8-73bd3682326c",
    "papermill": {
     "duration": 0.024252,
     "end_time": "2023-06-12T15:59:28.938697",
     "exception": false,
     "start_time": "2023-06-12T15:59:28.914445",
     "status": "completed"
    },
    "tags": []
   },
   "outputs": [
    {
     "data": {
      "text/plain": [
       "0    1770\n",
       "7    1761\n",
       "3    1725\n",
       "6    1704\n",
       "1    1700\n",
       "9    1694\n",
       "5    1694\n",
       "2    1677\n",
       "8    1675\n",
       "4    1639\n",
       "Name: label, dtype: int64"
      ]
     },
     "execution_count": 16,
     "metadata": {},
     "output_type": "execute_result"
    }
   ],
   "source": [
    "# Смотрим на равномерность распределения целевой переменной \n",
    "train[TARGET].value_counts()"
   ]
  },
  {
   "cell_type": "code",
   "execution_count": 17,
   "id": "0d50a1ff",
   "metadata": {
    "execution": {
     "iopub.execute_input": "2023-06-12T15:59:28.965240Z",
     "iopub.status.busy": "2023-06-12T15:59:28.964503Z",
     "iopub.status.idle": "2023-06-12T15:59:29.075783Z",
     "shell.execute_reply": "2023-06-12T15:59:29.074822Z"
    },
    "id": "IpJa835Dw5Lv",
    "papermill": {
     "duration": 0.127009,
     "end_time": "2023-06-12T15:59:29.078132",
     "exception": false,
     "start_time": "2023-06-12T15:59:28.951123",
     "status": "completed"
    },
    "tags": []
   },
   "outputs": [],
   "source": [
    "# Разбиение выборки на тренировочную и валидационную\n",
    "train_x_, val_x_, train_y, val_y = train_test_split(\n",
    "    train.loc[:, FEATURES], train.loc[:, TARGET], \n",
    "    random_state=RANDOM_SEED, test_size=VAL_SPLIT, stratify=train[TARGET])\n",
    "\n",
    "# Конвертируем метки в np.array\n",
    "train_y = tf.keras.utils.to_categorical(train_y, CLASS_NUM)\n",
    "val_y = tf.keras.utils.to_categorical(val_y, CLASS_NUM)"
   ]
  },
  {
   "cell_type": "code",
   "execution_count": 18,
   "id": "83a11f15",
   "metadata": {
    "execution": {
     "iopub.execute_input": "2023-06-12T15:59:29.104836Z",
     "iopub.status.busy": "2023-06-12T15:59:29.104186Z",
     "iopub.status.idle": "2023-06-12T15:59:29.220434Z",
     "shell.execute_reply": "2023-06-12T15:59:29.219105Z"
    },
    "id": "v9dFWwIHyYOO",
    "outputId": "5b3b2aee-4063-4605-d54f-46e34d864de6",
    "papermill": {
     "duration": 0.132069,
     "end_time": "2023-06-12T15:59:29.222921",
     "exception": false,
     "start_time": "2023-06-12T15:59:29.090852",
     "status": "completed"
    },
    "tags": []
   },
   "outputs": [
    {
     "name": "stdout",
     "output_type": "stream",
     "text": [
      "(13631, 784) (13631, 28, 28, 1)\n",
      "(3408, 784) (3408, 28, 28, 1)\n",
      "(10000, 785) (10000, 28, 28, 1)\n"
     ]
    }
   ],
   "source": [
    "# Изменение размерности\n",
    "train_x = train_x_.values.reshape(-1, *INPUT_SHAPE).astype(float)\n",
    "print(train_x_.shape, train_x.shape)\n",
    "\n",
    "val_x = val_x_.values.reshape(-1, *INPUT_SHAPE).astype(float)\n",
    "print(val_x_.shape, val_x.shape)\n",
    "\n",
    "test_x = test.drop(columns=['Id']).values.reshape(-1, *INPUT_SHAPE).astype(float)\n",
    "print(test.shape, test_x.shape)"
   ]
  },
  {
   "cell_type": "code",
   "execution_count": 19,
   "id": "0cb50d84",
   "metadata": {
    "execution": {
     "iopub.execute_input": "2023-06-12T15:59:29.252392Z",
     "iopub.status.busy": "2023-06-12T15:59:29.250724Z",
     "iopub.status.idle": "2023-06-12T15:59:29.255680Z",
     "shell.execute_reply": "2023-06-12T15:59:29.254788Z"
    },
    "id": "miG_IINMTE63",
    "papermill": {
     "duration": 0.020413,
     "end_time": "2023-06-12T15:59:29.257631",
     "exception": false,
     "start_time": "2023-06-12T15:59:29.237218",
     "status": "completed"
    },
    "tags": []
   },
   "outputs": [],
   "source": [
    "# Центрируем и нормируем, так сети будет проще учиться\n",
    "#train_.loc[:, FEATURES] = train_.loc[:, FEATURES].astype(np.float64) / 255 - 0.5\n",
    "#val_.loc[:, FEATURES] = val_.loc[:, FEATURES].astype(np.float64) / 255 - 0.5"
   ]
  },
  {
   "cell_type": "markdown",
   "id": "3dee4899",
   "metadata": {
    "id": "gk0NbVUqq0xC",
    "papermill": {
     "duration": 0.012162,
     "end_time": "2023-06-12T15:59:29.282073",
     "exception": false,
     "start_time": "2023-06-12T15:59:29.269911",
     "status": "completed"
    },
    "tags": []
   },
   "source": [
    "# Аугментация данных"
   ]
  },
  {
   "cell_type": "code",
   "execution_count": 20,
   "id": "2553799e",
   "metadata": {
    "execution": {
     "iopub.execute_input": "2023-06-12T15:59:29.308372Z",
     "iopub.status.busy": "2023-06-12T15:59:29.307603Z",
     "iopub.status.idle": "2023-06-12T15:59:29.314306Z",
     "shell.execute_reply": "2023-06-12T15:59:29.313442Z"
    },
    "id": "yIg02lQ4q3yR",
    "papermill": {
     "duration": 0.021811,
     "end_time": "2023-06-12T15:59:29.316220",
     "exception": false,
     "start_time": "2023-06-12T15:59:29.294409",
     "status": "completed"
    },
    "tags": []
   },
   "outputs": [],
   "source": [
    "train_datagen = ImageDataGenerator(rescale=1./255, \n",
    "                                     rotation_range=5,\n",
    "                                     shear_range=0.2,\n",
    "                                     zoom_range=[0.75, 1.25],\n",
    "                                     brightness_range=[0.5, 1.5],\n",
    "                                     width_shift_range=0.1,\n",
    "                                     height_shift_range=0.1,\n",
    "                                     horizontal_flip=True)\n",
    "\n",
    "val_datagen = ImageDataGenerator(rescale=1./255, \n",
    "                                   rotation_range=5,\n",
    "                                   shear_range=0.2,\n",
    "                                   zoom_range=[0.75, 1.25],\n",
    "                                   brightness_range=[0.5, 1.5],\n",
    "                                   width_shift_range=0.1,\n",
    "                                   height_shift_range=0.1,\n",
    "                                   horizontal_flip=True)\n",
    "\n",
    "test_datagen = ImageDataGenerator(rescale=1./255)"
   ]
  },
  {
   "cell_type": "code",
   "execution_count": 21,
   "id": "131ec3cf",
   "metadata": {
    "execution": {
     "iopub.execute_input": "2023-06-12T15:59:29.343095Z",
     "iopub.status.busy": "2023-06-12T15:59:29.342374Z",
     "iopub.status.idle": "2023-06-12T15:59:29.380588Z",
     "shell.execute_reply": "2023-06-12T15:59:29.379573Z"
    },
    "id": "MRgUtKq9wylx",
    "papermill": {
     "duration": 0.054417,
     "end_time": "2023-06-12T15:59:29.383150",
     "exception": false,
     "start_time": "2023-06-12T15:59:29.328733",
     "status": "completed"
    },
    "tags": []
   },
   "outputs": [],
   "source": [
    "# \"Заворачиваем\" наши данные в generator\n",
    "train_generator = train_datagen.flow(\n",
    "    x=train_x,\n",
    "    y=train_y,\n",
    "    batch_size=BATCH_SIZE,\n",
    "    shuffle=True,\n",
    "    seed=RANDOM_SEED)\n",
    "\n",
    "val_generator = val_datagen.flow(\n",
    "    x=val_x,\n",
    "    y=val_y,\n",
    "    batch_size=BATCH_SIZE,\n",
    "    shuffle=False,\n",
    "    seed=RANDOM_SEED)\n",
    "\n",
    "test_generator = test_datagen.flow(\n",
    "    x=test_x,\n",
    "    batch_size=BATCH_SIZE,\n",
    "    shuffle=False,\n",
    "    seed=RANDOM_SEED)"
   ]
  },
  {
   "cell_type": "code",
   "execution_count": 22,
   "id": "5c9dfe08",
   "metadata": {
    "execution": {
     "iopub.execute_input": "2023-06-12T15:59:29.411556Z",
     "iopub.status.busy": "2023-06-12T15:59:29.410724Z",
     "iopub.status.idle": "2023-06-12T15:59:30.304160Z",
     "shell.execute_reply": "2023-06-12T15:59:30.303226Z"
    },
    "id": "Hu1qhklXzCBd",
    "outputId": "ffa6b5a5-bfa1-4215-ef45-dcf536de7216",
    "papermill": {
     "duration": 0.909534,
     "end_time": "2023-06-12T15:59:30.306233",
     "exception": false,
     "start_time": "2023-06-12T15:59:29.396699",
     "status": "completed"
    },
    "tags": []
   },
   "outputs": [
    {
     "name": "stdout",
     "output_type": "stream",
     "text": [
      "Пример картинок из train_generator\n"
     ]
    },
    {
     "data": {
      "image/png": "[encoded data removed]",
      "text/plain": [
       "<Figure size 700x600 with 6 Axes>"
      ]
     },
     "metadata": {},
     "output_type": "display_data"
    }
   ],
   "source": [
    "x, y = train_generator.next()\n",
    "print('Пример картинок из train_generator')\n",
    "plt.figure(figsize=(7, 6))\n",
    "\n",
    "for i in range(0,6):\n",
    "    image = x[i]\n",
    "    plt.subplot(2, 3, i+1)\n",
    "    plt.imshow(image, cmap='gray')\n",
    "    plt.title('Class: ' + labels[y.argmax(axis=1)[i]])\n",
    "plt.show()"
   ]
  },
  {
   "cell_type": "code",
   "execution_count": 23,
   "id": "71ebf8ae",
   "metadata": {
    "execution": {
     "iopub.execute_input": "2023-06-12T15:59:30.334069Z",
     "iopub.status.busy": "2023-06-12T15:59:30.333724Z",
     "iopub.status.idle": "2023-06-12T15:59:31.210067Z",
     "shell.execute_reply": "2023-06-12T15:59:31.209175Z"
    },
    "id": "8hVi2IIRzi7e",
    "outputId": "07cfcde0-5897-45a5-f9fc-471d5c5c98c3",
    "papermill": {
     "duration": 0.892651,
     "end_time": "2023-06-12T15:59:31.212163",
     "exception": false,
     "start_time": "2023-06-12T15:59:30.319512",
     "status": "completed"
    },
    "tags": []
   },
   "outputs": [
    {
     "name": "stdout",
     "output_type": "stream",
     "text": [
      "Пример картинок из val_generator\n"
     ]
    },
    {
     "data": {
      "image/png": "[encoded data removed]",
      "text/plain": [
       "<Figure size 700x600 with 6 Axes>"
      ]
     },
     "metadata": {},
     "output_type": "display_data"
    }
   ],
   "source": [
    "x, y = val_generator.next()\n",
    "print('Пример картинок из val_generator')\n",
    "plt.figure(figsize=(7, 6))\n",
    "\n",
    "for i in range(0,6):\n",
    "    image = x[i]\n",
    "    plt.subplot(2, 3, i+1)\n",
    "    plt.imshow(image, cmap='gray')\n",
    "    plt.title('Class: ' + labels[y.argmax(axis=1)[i]])\n",
    "plt.show()"
   ]
  },
  {
   "cell_type": "markdown",
   "id": "f1a6c31e",
   "metadata": {
    "id": "V3A8MPTKhl5Y",
    "papermill": {
     "duration": 0.014171,
     "end_time": "2023-06-12T15:59:31.240550",
     "exception": false,
     "start_time": "2023-06-12T15:59:31.226379",
     "status": "completed"
    },
    "tags": []
   },
   "source": [
    "# Первое решение"
   ]
  },
  {
   "cell_type": "code",
   "execution_count": 24,
   "id": "6fab3566",
   "metadata": {
    "execution": {
     "iopub.execute_input": "2023-06-12T15:59:31.270027Z",
     "iopub.status.busy": "2023-06-12T15:59:31.268559Z",
     "iopub.status.idle": "2023-06-12T15:59:31.280762Z",
     "shell.execute_reply": "2023-06-12T15:59:31.279909Z"
    },
    "id": "g1zqF2tQeVFr",
    "papermill": {
     "duration": 0.028615,
     "end_time": "2023-06-12T15:59:31.282708",
     "exception": false,
     "start_time": "2023-06-12T15:59:31.254093",
     "status": "completed"
    },
    "tags": []
   },
   "outputs": [],
   "source": [
    "def make_default_model():\n",
    "    \n",
    "    model = M.Sequential()\n",
    "\n",
    "    model.add(L.Conv2D(filters=16, kernel_size=3, strides=1, padding='same', activation='relu', input_shape=INPUT_SHAPE))\n",
    "    model.add(L.BatchNormalization())\n",
    "    model.add(L.Conv2D(filters=32, kernel_size=3, strides=1, padding='same', activation='relu'))\n",
    "    model.add(L.BatchNormalization())\n",
    "    model.add(L.Conv2D(filters=64, kernel_size=3, strides=1, padding='same', activation='relu'))\n",
    "    model.add(L.BatchNormalization())\n",
    "    model.add(L.MaxPool2D(pool_size=(2, 2), strides=2))\n",
    "    model.add(L.Dropout(0.25))\n",
    "    model.add(L.Conv2D(filters=64, kernel_size=3, strides=1, padding='same', activation='relu'))\n",
    "    model.add(L.BatchNormalization())\n",
    "    model.add(L.Conv2D(filters=128, kernel_size=3, strides=1, padding='same', activation='relu'))\n",
    "    model.add(L.BatchNormalization())\n",
    "    model.add(L.Conv2D(filters=256, kernel_size=3, strides=1, padding='same', activation='relu'))\n",
    "    model.add(L.BatchNormalization())\n",
    "    model.add(L.MaxPool2D(pool_size=(2, 2), strides=2))\n",
    "    model.add(L.Dropout(0.25))\n",
    "    model.add(L.Flatten())\n",
    "    model.add(L.Dense(units=512, activation='elu'))\n",
    "    model.add(L.BatchNormalization())\n",
    "    model.add(L.Dropout(0.5))\n",
    "    model.add(L.Dense(units=CLASS_NUM, activation='softmax'))\n",
    "    \n",
    "    return model"
   ]
  },
  {
   "cell_type": "code",
   "execution_count": 25,
   "id": "379c87c8",
   "metadata": {
    "execution": {
     "iopub.execute_input": "2023-06-12T15:59:31.311440Z",
     "iopub.status.busy": "2023-06-12T15:59:31.310650Z",
     "iopub.status.idle": "2023-06-12T15:59:31.723108Z",
     "shell.execute_reply": "2023-06-12T15:59:31.722116Z"
    },
    "id": "QSsbdt2Eh3mZ",
    "papermill": {
     "duration": 0.429096,
     "end_time": "2023-06-12T15:59:31.725506",
     "exception": false,
     "start_time": "2023-06-12T15:59:31.296410",
     "status": "completed"
    },
    "tags": []
   },
   "outputs": [],
   "source": [
    "def train_model(make_model_func=make_default_model, \n",
    "                optimizers_=optimizers.Adam(learning_rate=LR), \n",
    "                name_mod='best_model'):\n",
    "    \n",
    "    K.clear_session()\n",
    "    model = make_model_func()   \n",
    "    model.summary()\n",
    "    \n",
    "    model.compile(\n",
    "        loss='categorical_crossentropy',\n",
    "        optimizer=optimizers_,\n",
    "        metrics='accuracy')\n",
    "\n",
    "    checkpoint = ModelCheckpoint(f'{name_mod}.hdf5',\n",
    "                                 monitor=['val_accuracy'],\n",
    "                                 verbose=1, mode='max')\n",
    "    \n",
    "    earlystop = EarlyStopping(monitor='val_accuracy',\n",
    "                              patience=EARLY_STOPPING,\n",
    "                              restore_best_weights=True)\n",
    "    \n",
    "    callbacks_list = [checkpoint, earlystop]\n",
    "\n",
    "    history = model.fit(\n",
    "        train_generator,\n",
    "        batch_size=BATCH_SIZE,\n",
    "        epochs=EPOCHS,\n",
    "        validation_data=val_generator,\n",
    "        shuffle=False,\n",
    "        callbacks = callbacks_list\n",
    "        )\n",
    "    \n",
    "    def plot_history(history):\n",
    "        plt.figure(figsize=(10,5))\n",
    "        plt.style.use('dark_background')\n",
    "        acc = history.history['accuracy']\n",
    "        val_acc = history.history['val_accuracy']\n",
    "        loss = history.history['loss']\n",
    "        val_loss = history.history['val_loss']\n",
    "\n",
    "        epochs = range(len(acc))\n",
    "\n",
    "        plt.plot(epochs, acc, 'b', label='Training acc')\n",
    "        plt.plot(epochs, val_acc, 'g', label='Validation acc')\n",
    "        plt.title('Training and validation accuracy')\n",
    "        plt.legend()\n",
    "\n",
    "        plt.figure(figsize=(10,5))\n",
    "        plt.plot(epochs, loss, 'b', label='Training loss')\n",
    "        plt.plot(epochs, val_loss, 'g', label='Validation loss')\n",
    "        plt.title('Training and validation loss')\n",
    "        plt.legend()\n",
    "\n",
    "        plt.show()\n",
    "        return\n",
    "\n",
    "    plot_history(history)\n",
    "\n",
    "    return model"
   ]
  },
  {
   "cell_type": "code",
   "execution_count": 26,
   "id": "685c5b77",
   "metadata": {
    "execution": {
     "iopub.execute_input": "2023-06-12T15:59:31.754445Z",
     "iopub.status.busy": "2023-06-12T15:59:31.754110Z",
     "iopub.status.idle": "2023-06-12T16:14:35.613175Z",
     "shell.execute_reply": "2023-06-12T16:14:35.612175Z"
    },
    "id": "5y6Ifo6jjd8F",
    "outputId": "077c0828-40e2-4811-ed86-d1a1bb14e176",
    "papermill": {
     "duration": 903.875584,
     "end_time": "2023-06-12T16:14:35.615247",
     "exception": false,
     "start_time": "2023-06-12T15:59:31.739663",
     "status": "completed"
    },
    "tags": []
   },
   "outputs": [
    {
     "name": "stdout",
     "output_type": "stream",
     "text": [
      "Model: \"sequential\"\n",
      "_________________________________________________________________\n",
      " Layer (type)                Output Shape              Param #   \n",
      "=================================================================\n",
      " conv2d (Conv2D)             (None, 28, 28, 16)        160       \n",
      "                                                                 \n",
      " batch_normalization (BatchN  (None, 28, 28, 16)       64        \n",
      " ormalization)                                                   \n",
      "                                                                 \n",
      " conv2d_1 (Conv2D)           (None, 28, 28, 32)        4640      \n",
      "                                                                 \n",
      " batch_normalization_1 (Batc  (None, 28, 28, 32)       128       \n",
      " hNormalization)                                                 \n",
      "                                                                 \n",
      " conv2d_2 (Conv2D)           (None, 28, 28, 64)        18496     \n",
      "                                                                 \n",
      " batch_normalization_2 (Batc  (None, 28, 28, 64)       256       \n",
      " hNormalization)                                                 \n",
      "                                                                 \n",
      " max_pooling2d (MaxPooling2D  (None, 14, 14, 64)       0         \n",
      " )                                                               \n",
      "                                                                 \n",
      " dropout (Dropout)           (None, 14, 14, 64)        0         \n",
      "                                                                 \n",
      " conv2d_3 (Conv2D)           (None, 14, 14, 64)        36928     \n",
      "                                                                 \n",
      " batch_normalization_3 (Batc  (None, 14, 14, 64)       256       \n",
      " hNormalization)                                                 \n",
      "                                                                 \n",
      " conv2d_4 (Conv2D)           (None, 14, 14, 128)       73856     \n",
      "                                                                 \n",
      " batch_normalization_4 (Batc  (None, 14, 14, 128)      512       \n",
      " hNormalization)                                                 \n",
      "                                                                 \n",
      " conv2d_5 (Conv2D)           (None, 14, 14, 256)       295168    \n",
      "                                                                 \n",
      " batch_normalization_5 (Batc  (None, 14, 14, 256)      1024      \n",
      " hNormalization)                                                 \n",
      "                                                                 \n",
      " max_pooling2d_1 (MaxPooling  (None, 7, 7, 256)        0         \n",
      " 2D)                                                             \n",
      "                                                                 \n",
      " dropout_1 (Dropout)         (None, 7, 7, 256)         0         \n",
      "                                                                 \n",
      " flatten (Flatten)           (None, 12544)             0         \n",
      "                                                                 \n",
      " dense (Dense)               (None, 512)               6423040   \n",
      "                                                                 \n",
      " batch_normalization_6 (Batc  (None, 512)              2048      \n",
      " hNormalization)                                                 \n",
      "                                                                 \n",
      " dropout_2 (Dropout)         (None, 512)               0         \n",
      "                                                                 \n",
      " dense_1 (Dense)             (None, 10)                5130      \n",
      "                                                                 \n",
      "=================================================================\n",
      "Total params: 6,861,706\n",
      "Trainable params: 6,859,562\n",
      "Non-trainable params: 2,144\n",
      "_________________________________________________________________\n",
      "Epoch 1/60\n"
     ]
    },
    {
     "name": "stderr",
     "output_type": "stream",
     "text": [
      "2023-06-12 15:59:34.433484: E tensorflow/core/grappler/optimizers/meta_optimizer.cc:954] layout failed: INVALID_ARGUMENT: Size of values 0 does not match size of permutation 4 @ fanin shape insequential/dropout/dropout/SelectV2-2-TransposeNHWCToNCHW-LayoutOptimizer\n"
     ]
    },
    {
     "name": "stdout",
     "output_type": "stream",
     "text": [
      "107/107 [==============================] - ETA: 0s - loss: 1.0479 - accuracy: 0.6636\n",
      "Epoch 1: saving model to my_model_1.hdf5\n",
      "107/107 [==============================] - 27s 119ms/step - loss: 1.0479 - accuracy: 0.6636 - val_loss: 8.6255 - val_accuracy: 0.1033\n",
      "Epoch 2/60\n",
      "106/107 [============================>.] - ETA: 0s - loss: 0.6846 - accuracy: 0.7537\n",
      "Epoch 2: saving model to my_model_1.hdf5\n",
      "107/107 [==============================] - 12s 109ms/step - loss: 0.6842 - accuracy: 0.7536 - val_loss: 4.8683 - val_accuracy: 0.1303\n",
      "Epoch 3/60\n",
      "106/107 [============================>.] - ETA: 0s - loss: 0.6019 - accuracy: 0.7780\n",
      "Epoch 3: saving model to my_model_1.hdf5\n",
      "107/107 [==============================] - 12s 113ms/step - loss: 0.6009 - accuracy: 0.7783 - val_loss: 1.9049 - val_accuracy: 0.4046\n",
      "Epoch 4/60\n",
      "106/107 [============================>.] - ETA: 0s - loss: 0.5492 - accuracy: 0.7950\n",
      "Epoch 4: saving model to my_model_1.hdf5\n",
      "107/107 [==============================] - 12s 111ms/step - loss: 0.5492 - accuracy: 0.7952 - val_loss: 0.8412 - val_accuracy: 0.6916\n",
      "Epoch 5/60\n",
      "106/107 [============================>.] - ETA: 0s - loss: 0.5190 - accuracy: 0.8097\n",
      "Epoch 5: saving model to my_model_1.hdf5\n",
      "107/107 [==============================] - 12s 109ms/step - loss: 0.5186 - accuracy: 0.8099 - val_loss: 0.5913 - val_accuracy: 0.7711\n",
      "Epoch 6/60\n",
      "107/107 [==============================] - ETA: 0s - loss: 0.4970 - accuracy: 0.8162\n",
      "Epoch 6: saving model to my_model_1.hdf5\n",
      "107/107 [==============================] - 12s 114ms/step - loss: 0.4970 - accuracy: 0.8162 - val_loss: 0.4848 - val_accuracy: 0.8219\n",
      "Epoch 7/60\n",
      "106/107 [============================>.] - ETA: 0s - loss: 0.4729 - accuracy: 0.8208\n",
      "Epoch 7: saving model to my_model_1.hdf5\n",
      "107/107 [==============================] - 12s 112ms/step - loss: 0.4723 - accuracy: 0.8211 - val_loss: 0.4521 - val_accuracy: 0.8401\n",
      "Epoch 8/60\n",
      "106/107 [============================>.] - ETA: 0s - loss: 0.4479 - accuracy: 0.8324\n",
      "Epoch 8: saving model to my_model_1.hdf5\n",
      "107/107 [==============================] - 12s 111ms/step - loss: 0.4477 - accuracy: 0.8324 - val_loss: 0.4270 - val_accuracy: 0.8457\n",
      "Epoch 9/60\n",
      "106/107 [============================>.] - ETA: 0s - loss: 0.4379 - accuracy: 0.8350\n",
      "Epoch 9: saving model to my_model_1.hdf5\n",
      "107/107 [==============================] - 12s 116ms/step - loss: 0.4381 - accuracy: 0.8348 - val_loss: 0.4190 - val_accuracy: 0.8424\n",
      "Epoch 10/60\n",
      "107/107 [==============================] - ETA: 0s - loss: 0.4342 - accuracy: 0.8375\n",
      "Epoch 10: saving model to my_model_1.hdf5\n",
      "107/107 [==============================] - 12s 112ms/step - loss: 0.4342 - accuracy: 0.8375 - val_loss: 0.4194 - val_accuracy: 0.8471\n",
      "Epoch 11/60\n",
      "106/107 [============================>.] - ETA: 0s - loss: 0.4169 - accuracy: 0.8449\n",
      "Epoch 11: saving model to my_model_1.hdf5\n",
      "107/107 [==============================] - 12s 113ms/step - loss: 0.4169 - accuracy: 0.8448 - val_loss: 0.4270 - val_accuracy: 0.8465\n",
      "Epoch 12/60\n",
      "106/107 [============================>.] - ETA: 0s - loss: 0.3972 - accuracy: 0.8519\n",
      "Epoch 12: saving model to my_model_1.hdf5\n",
      "107/107 [==============================] - 12s 109ms/step - loss: 0.3968 - accuracy: 0.8520 - val_loss: 0.4301 - val_accuracy: 0.8439\n",
      "Epoch 13/60\n",
      "106/107 [============================>.] - ETA: 0s - loss: 0.3922 - accuracy: 0.8539\n",
      "Epoch 13: saving model to my_model_1.hdf5\n",
      "107/107 [==============================] - 12s 108ms/step - loss: 0.3922 - accuracy: 0.8540 - val_loss: 0.4200 - val_accuracy: 0.8454\n",
      "Epoch 14/60\n",
      "106/107 [============================>.] - ETA: 0s - loss: 0.3888 - accuracy: 0.8558\n",
      "Epoch 14: saving model to my_model_1.hdf5\n",
      "107/107 [==============================] - 12s 113ms/step - loss: 0.3904 - accuracy: 0.8552 - val_loss: 0.3825 - val_accuracy: 0.8609\n",
      "Epoch 15/60\n",
      "106/107 [============================>.] - ETA: 0s - loss: 0.3765 - accuracy: 0.8617\n",
      "Epoch 15: saving model to my_model_1.hdf5\n",
      "107/107 [==============================] - 12s 114ms/step - loss: 0.3767 - accuracy: 0.8613 - val_loss: 0.4106 - val_accuracy: 0.8577\n",
      "Epoch 16/60\n",
      "106/107 [============================>.] - ETA: 0s - loss: 0.3730 - accuracy: 0.8595\n",
      "Epoch 16: saving model to my_model_1.hdf5\n",
      "107/107 [==============================] - 12s 115ms/step - loss: 0.3738 - accuracy: 0.8593 - val_loss: 0.4441 - val_accuracy: 0.8442\n",
      "Epoch 17/60\n",
      "106/107 [============================>.] - ETA: 0s - loss: 0.3826 - accuracy: 0.8577\n",
      "Epoch 17: saving model to my_model_1.hdf5\n",
      "107/107 [==============================] - 12s 113ms/step - loss: 0.3828 - accuracy: 0.8575 - val_loss: 0.4148 - val_accuracy: 0.8536\n",
      "Epoch 18/60\n",
      "107/107 [==============================] - ETA: 0s - loss: 0.3666 - accuracy: 0.8639\n",
      "Epoch 18: saving model to my_model_1.hdf5\n",
      "107/107 [==============================] - 12s 108ms/step - loss: 0.3666 - accuracy: 0.8639 - val_loss: 0.4084 - val_accuracy: 0.8486\n",
      "Epoch 19/60\n",
      "106/107 [============================>.] - ETA: 0s - loss: 0.3625 - accuracy: 0.8666\n",
      "Epoch 19: saving model to my_model_1.hdf5\n",
      "107/107 [==============================] - 12s 110ms/step - loss: 0.3618 - accuracy: 0.8667 - val_loss: 0.3656 - val_accuracy: 0.8674\n",
      "Epoch 20/60\n",
      "106/107 [============================>.] - ETA: 0s - loss: 0.3524 - accuracy: 0.8695\n",
      "Epoch 20: saving model to my_model_1.hdf5\n",
      "107/107 [==============================] - 12s 110ms/step - loss: 0.3526 - accuracy: 0.8696 - val_loss: 0.3446 - val_accuracy: 0.8703\n",
      "Epoch 21/60\n",
      "106/107 [============================>.] - ETA: 0s - loss: 0.3381 - accuracy: 0.8737\n",
      "Epoch 21: saving model to my_model_1.hdf5\n",
      "107/107 [==============================] - 12s 114ms/step - loss: 0.3378 - accuracy: 0.8738 - val_loss: 0.3666 - val_accuracy: 0.8697\n",
      "Epoch 22/60\n",
      "106/107 [============================>.] - ETA: 0s - loss: 0.3360 - accuracy: 0.8739\n",
      "Epoch 22: saving model to my_model_1.hdf5\n",
      "107/107 [==============================] - 12s 110ms/step - loss: 0.3361 - accuracy: 0.8741 - val_loss: 0.3453 - val_accuracy: 0.8718\n",
      "Epoch 23/60\n",
      "106/107 [============================>.] - ETA: 0s - loss: 0.3347 - accuracy: 0.8761\n",
      "Epoch 23: saving model to my_model_1.hdf5\n",
      "107/107 [==============================] - 12s 114ms/step - loss: 0.3344 - accuracy: 0.8761 - val_loss: 0.3644 - val_accuracy: 0.8691\n",
      "Epoch 24/60\n",
      "106/107 [============================>.] - ETA: 0s - loss: 0.3251 - accuracy: 0.8791\n",
      "Epoch 24: saving model to my_model_1.hdf5\n",
      "107/107 [==============================] - 12s 109ms/step - loss: 0.3250 - accuracy: 0.8789 - val_loss: 0.3640 - val_accuracy: 0.8609\n",
      "Epoch 25/60\n",
      "106/107 [============================>.] - ETA: 0s - loss: 0.3214 - accuracy: 0.8792\n",
      "Epoch 25: saving model to my_model_1.hdf5\n",
      "107/107 [==============================] - 12s 111ms/step - loss: 0.3209 - accuracy: 0.8794 - val_loss: 0.3534 - val_accuracy: 0.8738\n",
      "Epoch 26/60\n",
      "106/107 [============================>.] - ETA: 0s - loss: 0.3147 - accuracy: 0.8827\n",
      "Epoch 26: saving model to my_model_1.hdf5\n",
      "107/107 [==============================] - 12s 108ms/step - loss: 0.3146 - accuracy: 0.8826 - val_loss: 0.3758 - val_accuracy: 0.8727\n",
      "Epoch 27/60\n",
      "106/107 [============================>.] - ETA: 0s - loss: 0.3109 - accuracy: 0.8824\n",
      "Epoch 27: saving model to my_model_1.hdf5\n",
      "107/107 [==============================] - 12s 109ms/step - loss: 0.3106 - accuracy: 0.8825 - val_loss: 0.3529 - val_accuracy: 0.8650\n",
      "Epoch 28/60\n",
      "106/107 [============================>.] - ETA: 0s - loss: 0.3124 - accuracy: 0.8849\n",
      "Epoch 28: saving model to my_model_1.hdf5\n",
      "107/107 [==============================] - 12s 113ms/step - loss: 0.3119 - accuracy: 0.8852 - val_loss: 0.3258 - val_accuracy: 0.8853\n",
      "Epoch 29/60\n",
      "107/107 [==============================] - ETA: 0s - loss: 0.3005 - accuracy: 0.8881\n",
      "Epoch 29: saving model to my_model_1.hdf5\n",
      "107/107 [==============================] - 12s 110ms/step - loss: 0.3005 - accuracy: 0.8881 - val_loss: 0.3211 - val_accuracy: 0.8815\n",
      "Epoch 30/60\n",
      "106/107 [============================>.] - ETA: 0s - loss: 0.2882 - accuracy: 0.8922\n",
      "Epoch 30: saving model to my_model_1.hdf5\n",
      "107/107 [==============================] - 12s 112ms/step - loss: 0.2888 - accuracy: 0.8920 - val_loss: 0.3214 - val_accuracy: 0.8776\n",
      "Epoch 31/60\n",
      "106/107 [============================>.] - ETA: 0s - loss: 0.2852 - accuracy: 0.8906\n",
      "Epoch 31: saving model to my_model_1.hdf5\n",
      "107/107 [==============================] - 12s 109ms/step - loss: 0.2853 - accuracy: 0.8903 - val_loss: 0.3268 - val_accuracy: 0.8794\n",
      "Epoch 32/60\n",
      "106/107 [============================>.] - ETA: 0s - loss: 0.2914 - accuracy: 0.8912\n",
      "Epoch 32: saving model to my_model_1.hdf5\n",
      "107/107 [==============================] - 12s 114ms/step - loss: 0.2921 - accuracy: 0.8911 - val_loss: 0.3167 - val_accuracy: 0.8838\n",
      "Epoch 33/60\n",
      "106/107 [============================>.] - ETA: 0s - loss: 0.2843 - accuracy: 0.8956\n",
      "Epoch 33: saving model to my_model_1.hdf5\n",
      "107/107 [==============================] - 12s 110ms/step - loss: 0.2842 - accuracy: 0.8955 - val_loss: 0.3326 - val_accuracy: 0.8809\n",
      "Epoch 34/60\n",
      "107/107 [==============================] - ETA: 0s - loss: 0.2806 - accuracy: 0.8952\n",
      "Epoch 34: saving model to my_model_1.hdf5\n",
      "107/107 [==============================] - 12s 112ms/step - loss: 0.2806 - accuracy: 0.8952 - val_loss: 0.3579 - val_accuracy: 0.8618\n",
      "Epoch 35/60\n",
      "106/107 [============================>.] - ETA: 0s - loss: 0.2730 - accuracy: 0.8971\n",
      "Epoch 35: saving model to my_model_1.hdf5\n",
      "107/107 [==============================] - 12s 109ms/step - loss: 0.2730 - accuracy: 0.8971 - val_loss: 0.3213 - val_accuracy: 0.8894\n",
      "Epoch 36/60\n",
      "106/107 [============================>.] - ETA: 0s - loss: 0.2738 - accuracy: 0.8959\n",
      "Epoch 36: saving model to my_model_1.hdf5\n",
      "107/107 [==============================] - 12s 109ms/step - loss: 0.2737 - accuracy: 0.8960 - val_loss: 0.3191 - val_accuracy: 0.8879\n",
      "Epoch 37/60\n",
      "106/107 [============================>.] - ETA: 0s - loss: 0.2684 - accuracy: 0.9004\n",
      "Epoch 37: saving model to my_model_1.hdf5\n",
      "107/107 [==============================] - 12s 108ms/step - loss: 0.2688 - accuracy: 0.9003 - val_loss: 0.2992 - val_accuracy: 0.8906\n",
      "Epoch 38/60\n",
      "106/107 [============================>.] - ETA: 0s - loss: 0.2673 - accuracy: 0.9014\n",
      "Epoch 38: saving model to my_model_1.hdf5\n",
      "107/107 [==============================] - 12s 109ms/step - loss: 0.2672 - accuracy: 0.9013 - val_loss: 0.3031 - val_accuracy: 0.8853\n",
      "Epoch 39/60\n",
      "106/107 [============================>.] - ETA: 0s - loss: 0.2676 - accuracy: 0.9003\n",
      "Epoch 39: saving model to my_model_1.hdf5\n",
      "107/107 [==============================] - 12s 115ms/step - loss: 0.2676 - accuracy: 0.9002 - val_loss: 0.3128 - val_accuracy: 0.8917\n",
      "Epoch 40/60\n",
      "106/107 [============================>.] - ETA: 0s - loss: 0.2593 - accuracy: 0.9016\n",
      "Epoch 40: saving model to my_model_1.hdf5\n",
      "107/107 [==============================] - 12s 110ms/step - loss: 0.2592 - accuracy: 0.9017 - val_loss: 0.2940 - val_accuracy: 0.8958\n",
      "Epoch 41/60\n",
      "106/107 [============================>.] - ETA: 0s - loss: 0.2575 - accuracy: 0.9024\n",
      "Epoch 41: saving model to my_model_1.hdf5\n",
      "107/107 [==============================] - 12s 111ms/step - loss: 0.2574 - accuracy: 0.9024 - val_loss: 0.3209 - val_accuracy: 0.8823\n",
      "Epoch 42/60\n",
      "106/107 [============================>.] - ETA: 0s - loss: 0.2629 - accuracy: 0.9029\n",
      "Epoch 42: saving model to my_model_1.hdf5\n",
      "107/107 [==============================] - 12s 109ms/step - loss: 0.2626 - accuracy: 0.9030 - val_loss: 0.3040 - val_accuracy: 0.8947\n",
      "Epoch 43/60\n",
      "106/107 [============================>.] - ETA: 0s - loss: 0.2472 - accuracy: 0.9086\n",
      "Epoch 43: saving model to my_model_1.hdf5\n",
      "107/107 [==============================] - 12s 112ms/step - loss: 0.2469 - accuracy: 0.9088 - val_loss: 0.3132 - val_accuracy: 0.8903\n",
      "Epoch 44/60\n",
      "106/107 [============================>.] - ETA: 0s - loss: 0.2457 - accuracy: 0.9090\n",
      "Epoch 44: saving model to my_model_1.hdf5\n",
      "107/107 [==============================] - 12s 108ms/step - loss: 0.2451 - accuracy: 0.9092 - val_loss: 0.2950 - val_accuracy: 0.8891\n",
      "Epoch 45/60\n",
      "107/107 [==============================] - ETA: 0s - loss: 0.2489 - accuracy: 0.9065\n",
      "Epoch 45: saving model to my_model_1.hdf5\n",
      "107/107 [==============================] - 12s 115ms/step - loss: 0.2489 - accuracy: 0.9065 - val_loss: 0.3237 - val_accuracy: 0.8870\n",
      "Epoch 46/60\n",
      "106/107 [============================>.] - ETA: 0s - loss: 0.2398 - accuracy: 0.9102\n",
      "Epoch 46: saving model to my_model_1.hdf5\n",
      "107/107 [==============================] - 12s 109ms/step - loss: 0.2400 - accuracy: 0.9099 - val_loss: 0.3016 - val_accuracy: 0.8882\n",
      "Epoch 47/60\n",
      "106/107 [============================>.] - ETA: 0s - loss: 0.2351 - accuracy: 0.9100\n",
      "Epoch 47: saving model to my_model_1.hdf5\n",
      "107/107 [==============================] - 13s 116ms/step - loss: 0.2356 - accuracy: 0.9098 - val_loss: 0.2891 - val_accuracy: 0.8988\n",
      "Epoch 48/60\n",
      "106/107 [============================>.] - ETA: 0s - loss: 0.2348 - accuracy: 0.9108\n",
      "Epoch 48: saving model to my_model_1.hdf5\n",
      "107/107 [==============================] - 13s 124ms/step - loss: 0.2347 - accuracy: 0.9109 - val_loss: 0.3128 - val_accuracy: 0.8844\n",
      "Epoch 49/60\n",
      "106/107 [============================>.] - ETA: 0s - loss: 0.2333 - accuracy: 0.9137\n",
      "Epoch 49: saving model to my_model_1.hdf5\n",
      "107/107 [==============================] - 12s 110ms/step - loss: 0.2333 - accuracy: 0.9136 - val_loss: 0.2930 - val_accuracy: 0.8973\n",
      "Epoch 50/60\n",
      "106/107 [============================>.] - ETA: 0s - loss: 0.2397 - accuracy: 0.9091\n",
      "Epoch 50: saving model to my_model_1.hdf5\n",
      "107/107 [==============================] - 12s 111ms/step - loss: 0.2394 - accuracy: 0.9092 - val_loss: 0.3358 - val_accuracy: 0.8832\n",
      "Epoch 51/60\n",
      "106/107 [============================>.] - ETA: 0s - loss: 0.2293 - accuracy: 0.9132\n",
      "Epoch 51: saving model to my_model_1.hdf5\n",
      "107/107 [==============================] - 12s 116ms/step - loss: 0.2294 - accuracy: 0.9133 - val_loss: 0.2922 - val_accuracy: 0.8938\n",
      "Epoch 52/60\n",
      "106/107 [============================>.] - ETA: 0s - loss: 0.2358 - accuracy: 0.9119\n",
      "Epoch 52: saving model to my_model_1.hdf5\n",
      "107/107 [==============================] - 12s 108ms/step - loss: 0.2355 - accuracy: 0.9120 - val_loss: 0.3378 - val_accuracy: 0.8903\n",
      "Epoch 53/60\n",
      "106/107 [============================>.] - ETA: 0s - loss: 0.2196 - accuracy: 0.9172\n",
      "Epoch 53: saving model to my_model_1.hdf5\n",
      "107/107 [==============================] - 12s 113ms/step - loss: 0.2200 - accuracy: 0.9172 - val_loss: 0.2653 - val_accuracy: 0.9035\n",
      "Epoch 54/60\n",
      "106/107 [============================>.] - ETA: 0s - loss: 0.2213 - accuracy: 0.9160\n",
      "Epoch 54: saving model to my_model_1.hdf5\n",
      "107/107 [==============================] - 12s 113ms/step - loss: 0.2219 - accuracy: 0.9158 - val_loss: 0.2968 - val_accuracy: 0.9005\n",
      "Epoch 55/60\n",
      "106/107 [============================>.] - ETA: 0s - loss: 0.2275 - accuracy: 0.9140\n",
      "Epoch 55: saving model to my_model_1.hdf5\n",
      "107/107 [==============================] - 12s 110ms/step - loss: 0.2279 - accuracy: 0.9137 - val_loss: 0.2848 - val_accuracy: 0.9002\n",
      "Epoch 56/60\n",
      "106/107 [============================>.] - ETA: 0s - loss: 0.2270 - accuracy: 0.9160\n",
      "Epoch 56: saving model to my_model_1.hdf5\n",
      "107/107 [==============================] - 12s 112ms/step - loss: 0.2267 - accuracy: 0.9161 - val_loss: 0.2703 - val_accuracy: 0.9055\n",
      "Epoch 57/60\n",
      "106/107 [============================>.] - ETA: 0s - loss: 0.2137 - accuracy: 0.9203\n",
      "Epoch 57: saving model to my_model_1.hdf5\n",
      "107/107 [==============================] - 12s 110ms/step - loss: 0.2131 - accuracy: 0.9205 - val_loss: 0.2946 - val_accuracy: 0.8950\n",
      "Epoch 58/60\n",
      "107/107 [==============================] - ETA: 0s - loss: 0.2187 - accuracy: 0.9186\n",
      "Epoch 58: saving model to my_model_1.hdf5\n",
      "107/107 [==============================] - 12s 111ms/step - loss: 0.2187 - accuracy: 0.9186 - val_loss: 0.3219 - val_accuracy: 0.8856\n",
      "Epoch 59/60\n",
      "106/107 [============================>.] - ETA: 0s - loss: 0.2166 - accuracy: 0.9188\n",
      "Epoch 59: saving model to my_model_1.hdf5\n",
      "107/107 [==============================] - 12s 109ms/step - loss: 0.2164 - accuracy: 0.9189 - val_loss: 0.2801 - val_accuracy: 0.9064\n",
      "Epoch 60/60\n",
      "106/107 [============================>.] - ETA: 0s - loss: 0.2150 - accuracy: 0.9189\n",
      "Epoch 60: saving model to my_model_1.hdf5\n",
      "107/107 [==============================] - 12s 114ms/step - loss: 0.2149 - accuracy: 0.9189 - val_loss: 0.2772 - val_accuracy: 0.9005\n"
     ]
    },
    {
     "data": {
      "image/png": "[encoded data removed]",
      "text/plain": [
       "<Figure size 1000x500 with 1 Axes>"
      ]
     },
     "metadata": {},
     "output_type": "display_data"
    },
    {
     "data": {
      "image/png": "[encoded data removed]",
      "text/plain": [
       "<Figure size 1000x500 with 1 Axes>"
      ]
     },
     "metadata": {},
     "output_type": "display_data"
    }
   ],
   "source": [
    "my_model_1 = train_model(name_mod='my_model_1', optimizers_=optimizers.Adamax(learning_rate=0.002))"
   ]
  },
  {
   "cell_type": "markdown",
   "id": "447ea9c2",
   "metadata": {
    "id": "cb9teQDc_QKW",
    "papermill": {
     "duration": 0.508244,
     "end_time": "2023-06-12T16:14:36.680421",
     "exception": false,
     "start_time": "2023-06-12T16:14:36.172177",
     "status": "completed"
    },
    "tags": []
   },
   "source": [
    "# Вывод"
   ]
  },
  {
   "cell_type": "code",
   "execution_count": 27,
   "id": "1f9dc5c5",
   "metadata": {
    "execution": {
     "iopub.execute_input": "2023-06-12T16:14:37.682895Z",
     "iopub.status.busy": "2023-06-12T16:14:37.682537Z",
     "iopub.status.idle": "2023-06-12T16:14:38.880772Z",
     "shell.execute_reply": "2023-06-12T16:14:38.879843Z"
    },
    "id": "uCU_IJq9868H",
    "outputId": "88fc0c05-cbcb-462c-b34a-a28bd539b2c4",
    "papermill": {
     "duration": 1.703482,
     "end_time": "2023-06-12T16:14:38.882833",
     "exception": false,
     "start_time": "2023-06-12T16:14:37.179351",
     "status": "completed"
    },
    "tags": []
   },
   "outputs": [
    {
     "name": "stdout",
     "output_type": "stream",
     "text": [
      "79/79 [==============================] - 1s 11ms/step\n"
     ]
    }
   ],
   "source": [
    "predictions_1 = my_model_1.predict(test_generator)\n",
    "\n",
    "submission_1 = pd.DataFrame({'Id': list(i for i in range(len(test_x))),\n",
    "                             'Category': np.argmax(predictions_1, axis=1)})\n",
    "#submission_1['Category'] = np.argmax(predictions_1, axis=1)"
   ]
  },
  {
   "cell_type": "code",
   "execution_count": 28,
   "id": "a77b3331",
   "metadata": {
    "execution": {
     "iopub.execute_input": "2023-06-12T16:14:39.947900Z",
     "iopub.status.busy": "2023-06-12T16:14:39.947534Z",
     "iopub.status.idle": "2023-06-12T16:14:42.617859Z",
     "shell.execute_reply": "2023-06-12T16:14:42.616876Z"
    },
    "id": "VSLzxVqMRQvP",
    "outputId": "4c7ed080-d6f8-462b-af0b-29075b2203cb",
    "papermill": {
     "duration": 3.173683,
     "end_time": "2023-06-12T16:14:42.619960",
     "exception": false,
     "start_time": "2023-06-12T16:14:39.446277",
     "status": "completed"
    },
    "tags": []
   },
   "outputs": [
    {
     "name": "stdout",
     "output_type": "stream",
     "text": [
      "27/27 [==============================] - 2s 79ms/step - loss: 0.2825 - accuracy: 0.8976\n",
      "Accuracy: 89.76%\n"
     ]
    }
   ],
   "source": [
    "scores_1 = my_model_1.evaluate(val_generator, verbose=1)\n",
    "print(\"Accuracy: %.2f%%\" % (scores_1[1]*100))"
   ]
  },
  {
   "cell_type": "code",
   "execution_count": 29,
   "id": "bc451c1f",
   "metadata": {
    "execution": {
     "iopub.execute_input": "2023-06-12T16:14:43.631783Z",
     "iopub.status.busy": "2023-06-12T16:14:43.631426Z",
     "iopub.status.idle": "2023-06-12T16:14:44.445038Z",
     "shell.execute_reply": "2023-06-12T16:14:44.444130Z"
    },
    "id": "EcKVDXqk-ff3",
    "outputId": "32bebaae-7c42-4328-f105-8bc1ebbce958",
    "papermill": {
     "duration": 1.325564,
     "end_time": "2023-06-12T16:14:44.447027",
     "exception": false,
     "start_time": "2023-06-12T16:14:43.121463",
     "status": "completed"
    },
    "tags": []
   },
   "outputs": [
    {
     "name": "stdout",
     "output_type": "stream",
     "text": [
      "Пример картинок из test_generator\n"
     ]
    },
    {
     "data": {
      "image/png": "[encoded data removed]",
      "text/plain": [
       "<Figure size 700x600 with 6 Axes>"
      ]
     },
     "metadata": {},
     "output_type": "display_data"
    }
   ],
   "source": [
    "print('Пример картинок из test_generator')\n",
    "plt.figure(figsize=(7, 6))\n",
    "\n",
    "for i in range(0,6):\n",
    "    random_index = np.random.randint(0, len(test_x))\n",
    "    image = test_x[random_index]\n",
    "    plt.subplot(2, 3, i+1)\n",
    "    plt.imshow(image, cmap='gray')\n",
    "    plt.title('Class: ' + labels[submission_1.loc[random_index, 'Category']])\n",
    "plt.show()"
   ]
  },
  {
   "cell_type": "code",
   "execution_count": 30,
   "id": "a7e78e2f",
   "metadata": {
    "execution": {
     "iopub.execute_input": "2023-06-12T16:14:45.506631Z",
     "iopub.status.busy": "2023-06-12T16:14:45.505687Z",
     "iopub.status.idle": "2023-06-12T16:14:45.533150Z",
     "shell.execute_reply": "2023-06-12T16:14:45.532190Z"
    },
    "id": "FhGz4ihwAwkM",
    "papermill": {
     "duration": 0.584196,
     "end_time": "2023-06-12T16:14:45.535383",
     "exception": false,
     "start_time": "2023-06-12T16:14:44.951187",
     "status": "completed"
    },
    "tags": []
   },
   "outputs": [],
   "source": [
    "submission_1.to_csv(\n",
    "    f'/kaggle/working/submission{scores_1[1]}.csv',\n",
    "    index=False, decimal='.')"
   ]
  },
  {
   "cell_type": "code",
   "execution_count": 31,
   "id": "49682b93",
   "metadata": {
    "execution": {
     "iopub.execute_input": "2023-06-12T16:14:46.579367Z",
     "iopub.status.busy": "2023-06-12T16:14:46.578983Z",
     "iopub.status.idle": "2023-06-12T16:14:46.593589Z",
     "shell.execute_reply": "2023-06-12T16:14:46.592591Z"
    },
    "id": "CMEGDt-AlBPD",
    "outputId": "faffeefd-18e4-406a-c002-94743f420127",
    "papermill": {
     "duration": 0.532679,
     "end_time": "2023-06-12T16:14:46.595627",
     "exception": false,
     "start_time": "2023-06-12T16:14:46.062948",
     "status": "completed"
    },
    "tags": []
   },
   "outputs": [
    {
     "data": {
      "text/html": [
       "<div>\n",
       "<style scoped>\n",
       "    .dataframe tbody tr th:only-of-type {\n",
       "        vertical-align: middle;\n",
       "    }\n",
       "\n",
       "    .dataframe tbody tr th {\n",
       "        vertical-align: top;\n",
       "    }\n",
       "\n",
       "    .dataframe thead th {\n",
       "        text-align: right;\n",
       "    }\n",
       "</style>\n",
       "<table border=\"1\" class=\"dataframe\">\n",
       "  <thead>\n",
       "    <tr style=\"text-align: right;\">\n",
       "      <th></th>\n",
       "      <th>Id</th>\n",
       "      <th>Category</th>\n",
       "    </tr>\n",
       "  </thead>\n",
       "  <tbody>\n",
       "    <tr>\n",
       "      <th>0</th>\n",
       "      <td>0</td>\n",
       "      <td>0</td>\n",
       "    </tr>\n",
       "    <tr>\n",
       "      <th>1</th>\n",
       "      <td>1</td>\n",
       "      <td>1</td>\n",
       "    </tr>\n",
       "    <tr>\n",
       "      <th>2</th>\n",
       "      <td>2</td>\n",
       "      <td>2</td>\n",
       "    </tr>\n",
       "    <tr>\n",
       "      <th>3</th>\n",
       "      <td>3</td>\n",
       "      <td>2</td>\n",
       "    </tr>\n",
       "    <tr>\n",
       "      <th>4</th>\n",
       "      <td>4</td>\n",
       "      <td>3</td>\n",
       "    </tr>\n",
       "    <tr>\n",
       "      <th>...</th>\n",
       "      <td>...</td>\n",
       "      <td>...</td>\n",
       "    </tr>\n",
       "    <tr>\n",
       "      <th>9995</th>\n",
       "      <td>9995</td>\n",
       "      <td>0</td>\n",
       "    </tr>\n",
       "    <tr>\n",
       "      <th>9996</th>\n",
       "      <td>9996</td>\n",
       "      <td>6</td>\n",
       "    </tr>\n",
       "    <tr>\n",
       "      <th>9997</th>\n",
       "      <td>9997</td>\n",
       "      <td>8</td>\n",
       "    </tr>\n",
       "    <tr>\n",
       "      <th>9998</th>\n",
       "      <td>9998</td>\n",
       "      <td>8</td>\n",
       "    </tr>\n",
       "    <tr>\n",
       "      <th>9999</th>\n",
       "      <td>9999</td>\n",
       "      <td>1</td>\n",
       "    </tr>\n",
       "  </tbody>\n",
       "</table>\n",
       "<p>10000 rows × 2 columns</p>\n",
       "</div>"
      ],
      "text/plain": [
       "        Id  Category\n",
       "0        0         0\n",
       "1        1         1\n",
       "2        2         2\n",
       "3        3         2\n",
       "4        4         3\n",
       "...    ...       ...\n",
       "9995  9995         0\n",
       "9996  9996         6\n",
       "9997  9997         8\n",
       "9998  9998         8\n",
       "9999  9999         1\n",
       "\n",
       "[10000 rows x 2 columns]"
      ]
     },
     "execution_count": 31,
     "metadata": {},
     "output_type": "execute_result"
    }
   ],
   "source": [
    "pd.read_csv(f'/kaggle/working/submission{scores_1[1]}.csv')"
   ]
  },
  {
   "cell_type": "code",
   "execution_count": null,
   "id": "875ed93a",
   "metadata": {
    "papermill": {
     "duration": 0.555207,
     "end_time": "2023-06-12T16:14:47.665005",
     "exception": false,
     "start_time": "2023-06-12T16:14:47.109798",
     "status": "completed"
    },
    "tags": []
   },
   "outputs": [],
   "source": []
  }
 ],
 "metadata": {
  "kernelspec": {
   "display_name": "Python 3",
   "language": "python",
   "name": "python3"
  },
  "language_info": {
   "codemirror_mode": {
    "name": "ipython",
    "version": 3
   },
   "file_extension": ".py",
   "mimetype": "text/x-python",
   "name": "python",
   "nbconvert_exporter": "python",
   "pygments_lexer": "ipython3",
   "version": "3.10.10"
  },
  "papermill": {
   "default_parameters": {},
   "duration": 953.504819,
   "end_time": "2023-06-12T16:14:51.206707",
   "environment_variables": {},
   "exception": null,
   "input_path": "__notebook__.ipynb",
   "output_path": "__notebook__.ipynb",
   "parameters": {},
   "start_time": "2023-06-12T15:58:57.701888",
   "version": "2.4.0"
  }
 },
 "nbformat": 4,
 "nbformat_minor": 5
}
